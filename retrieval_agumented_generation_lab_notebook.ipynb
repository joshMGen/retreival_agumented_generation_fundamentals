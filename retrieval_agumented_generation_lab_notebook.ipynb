{
 "cells": [
  {
   "cell_type": "code",
   "execution_count": 15,
   "metadata": {},
   "outputs": [],
   "source": [
    "from gpt4all import GPT4All"
   ]
  },
  {
   "cell_type": "code",
   "execution_count": 16,
   "metadata": {},
   "outputs": [],
   "source": [
    "# mistral_model = GPT4All(r\"/home/pslearner/LLM_models/mistral-7b-openorca.gguf2.Q4_0-004.gguf\")\n",
    "mistral_model = GPT4All(r\"C:\\Users\\JoshMeier\\Downloads\\mistral-7b-openorca.gguf2.Q4_0.gguf\")"
   ]
  },
  {
   "cell_type": "markdown",
   "metadata": {},
   "source": [
    "#  Prompt engineering RAG with LLM's"
   ]
  },
  {
   "cell_type": "markdown",
   "metadata": {},
   "source": [
    "## Guided prompt engineering for retrieval agumented generation (RAGs)"
   ]
  },
  {
   "cell_type": "code",
   "execution_count": 17,
   "metadata": {},
   "outputs": [],
   "source": [
    "sixty_inch_qled_quant = 15\n",
    "seventy_two_inch_qled_quant = 4\n",
    "ninty_inch_qled_quant = 0\n",
    "basic_microwave_quant = 9\n",
    "card_quant = 105\n"
   ]
  },
  {
   "cell_type": "code",
   "execution_count": 18,
   "metadata": {},
   "outputs": [],
   "source": [
    "rag_system_prompt = f\"\"\"\n",
    "You are a helpful AI assistant who will answer questions about the selection of products below. If asked questions about products\n",
    "that are not listed and described below reply with 'I am unable to help with that, would you like to connect with a representative?' \n",
    "Truthfully reply as if you have no access to personal information or a database to be referenced.\n",
    "\n",
    "Current products in stock are as follows:\n",
    "60 inch flat screen QLED TV with {sixty_inch_qled_quant} currently in stock priced at $250,\n",
    "72 inch flat screen QLED TV with {seventy_two_inch_qled_quant} currently in stock priced at $350,\n",
    "90 inch flat screen QLED TV with {ninty_inch_qled_quant} currently in stock priced at $450,\n",
    "standard microwave with {basic_microwave_quant} currently in stock priced at $150 while on sale down from 200,\n",
    "get well soon cards with {card_quant} currently in stock priced at $7.25,\n",
    "\n",
    "QLED stands for Quantum Dot Light Emitting Diode, which is a type of liquid crystal display (LCD) that uses nanocrystals to produce different\n",
    "colors of light. QLED TVs have a layer of quantum dots between the backlight and the pixels on the screen, with each dot size corresponding\n",
    "to a different color. This results in more saturated colors and higher peak brightness than traditional LED TVs. QLED TVs are also well-suited\n",
    "for brightly-lit environments and have a long lifespan.\n",
    "\n",
    "\n",
    "\"\"\""
   ]
  },
  {
   "cell_type": "code",
   "execution_count": 19,
   "metadata": {},
   "outputs": [
    {
     "name": "stdout",
     "output_type": "stream",
     "text": [
      "{'role': 'system', 'content': \"\\nYou are a helpful AI assistant who will answer questions about the selection of products below. If asked questions about products\\nthat are not listed and described below reply with 'I am unable to help with that, would you like to connect with a representative?' \\nTruthfully reply as if you have no access to personal information or a database to be referenced.\\n\\nCurrent products in stock are as follows:\\n60 inch flat screen QLED TV with 15 currently in stock priced at $250,\\n72 inch flat screen QLED TV with 4 currently in stock priced at $350,\\n90 inch flat screen QLED TV with 0 currently in stock priced at $450,\\nstandard microwave with 9 currently in stock priced at $150 while on sale down from 200,\\nget well soon cards with 105 currently in stock priced at $7.25,\\n\\nQLED stands for Quantum Dot Light Emitting Diode, which is a type of liquid crystal display (LCD) that uses nanocrystals to produce different\\ncolors of light. QLED TVs have a layer of quantum dots between the backlight and the pixels on the screen, with each dot size corresponding\\nto a different color. This results in more saturated colors and higher peak brightness than traditional LED TVs. QLED TVs are also well-suited\\nfor brightly-lit environments and have a long lifespan.\\n\\n\\n\"}\n",
      "{'role': 'user', 'content': 'what tvs do you have in stock?'}\n",
      "{'role': 'assistant', 'content': ' We currently have 60 inch flat screen QLED TV with 15 units in stock priced at $250, 72 inch flat screen QLED TV with 4 units in stock priced at $350,'}\n"
     ]
    }
   ],
   "source": [
    "with mistral_model.chat_session(system_prompt=rag_system_prompt):\n",
    "    response = mistral_model.generate(prompt= \"what tvs do you have in stock?\", max_tokens=50, temp=0.1, streaming=False)\n",
    "    for x in mistral_model.current_chat_session:\n",
    "        print(x)"
   ]
  },
  {
   "cell_type": "code",
   "execution_count": 20,
   "metadata": {},
   "outputs": [
    {
     "name": "stdout",
     "output_type": "stream",
     "text": [
      "{'role': 'system', 'content': \"\\nYou are a helpful AI assistant who will answer questions about the selection of products below. If asked questions about products\\nthat are not listed and described below reply with 'I am unable to help with that, would you like to connect with a representative?' \\nTruthfully reply as if you have no access to personal information or a database to be referenced.\\n\\nCurrent products in stock are as follows:\\n60 inch flat screen QLED TV with 15 currently in stock priced at $250,\\n72 inch flat screen QLED TV with 4 currently in stock priced at $350,\\n90 inch flat screen QLED TV with 0 currently in stock priced at $450,\\nstandard microwave with 9 currently in stock priced at $150 while on sale down from 200,\\nget well soon cards with 105 currently in stock priced at $7.25,\\n\\nQLED stands for Quantum Dot Light Emitting Diode, which is a type of liquid crystal display (LCD) that uses nanocrystals to produce different\\ncolors of light. QLED TVs have a layer of quantum dots between the backlight and the pixels on the screen, with each dot size corresponding\\nto a different color. This results in more saturated colors and higher peak brightness than traditional LED TVs. QLED TVs are also well-suited\\nfor brightly-lit environments and have a long lifespan.\\n\\n\\n\"}\n",
      "{'role': 'user', 'content': 'what tvs do you have in stock?'}\n",
      "{'role': 'assistant', 'content': ' We currently have 60 inch flat screen QLED TV with 15 units in stock priced at $250, 72 inch flat screen QLED TV with 4 units in stock priced at $350,'}\n",
      "{'role': 'user', 'content': 'what is QLED?'}\n",
      "{'role': 'assistant', 'content': \" QLED stands for Quantum Dot Light Emitting Diode. It's a type of liquid crystal display (LCD) that uses nanocrystals to produce different colors of light. This results in more saturated colors and\"}\n",
      "{'role': 'user', 'content': 'which tv would you reccomend?'}\n",
      "{'role': 'assistant', 'content': \" I am unable to provide personalized recommendations, but if you are looking for a QLED TV with the best value, the 60 inch flat screen QLED TV priced at $250 might be suitable. However, it's\"}\n"
     ]
    }
   ],
   "source": [
    "with mistral_model.chat_session(system_prompt=rag_system_prompt):\n",
    "    response = mistral_model.generate(prompt= \"what tvs do you have in stock?\", max_tokens=50, temp=0.1, streaming=False)\n",
    "    response = mistral_model.generate(prompt= \"what is QLED?\", max_tokens=50, temp=0.1, streaming=False)\n",
    "    response = mistral_model.generate(prompt= \"which tv would you reccomend?\", max_tokens=50, temp=0.1, streaming=False)\n",
    "\n",
    "    for x in mistral_model.current_chat_session:\n",
    "        print(x)"
   ]
  },
  {
   "cell_type": "code",
   "execution_count": 21,
   "metadata": {},
   "outputs": [
    {
     "name": "stdout",
     "output_type": "stream",
     "text": [
      "{'role': 'system', 'content': \"\\nYou are a helpful AI assistant who will answer questions about the selection of products below. If asked questions about products\\nthat are not listed and described below reply with 'I am unable to help with that, would you like to connect with a representative?' \\nTruthfully reply as if you have no access to personal information or a database to be referenced.\\n\\nCurrent products in stock are as follows:\\n60 inch flat screen QLED TV with 15 currently in stock priced at $250,\\n72 inch flat screen QLED TV with 4 currently in stock priced at $350,\\n90 inch flat screen QLED TV with 0 currently in stock priced at $450,\\nstandard microwave with 9 currently in stock priced at $150 while on sale down from 200,\\nget well soon cards with 105 currently in stock priced at $7.25,\\n\\nQLED stands for Quantum Dot Light Emitting Diode, which is a type of liquid crystal display (LCD) that uses nanocrystals to produce different\\ncolors of light. QLED TVs have a layer of quantum dots between the backlight and the pixels on the screen, with each dot size corresponding\\nto a different color. This results in more saturated colors and higher peak brightness than traditional LED TVs. QLED TVs are also well-suited\\nfor brightly-lit environments and have a long lifespan.\\n\\n\\n\"}\n",
      "{'role': 'user', 'content': 'what tvs do you have in stock?'}\n",
      "{'role': 'assistant', 'content': ' We currently have 60 inch flat screen QLED TV with 15 units in stock priced at $250, 72 inch flat screen QLED TV with 4 units in stock priced at $350,'}\n",
      "{'role': 'user', 'content': 'what is QLED?'}\n",
      "{'role': 'assistant', 'content': \" QLED stands for Quantum Dot Light Emitting Diode. It's a type of liquid crystal display (LCD) that uses nanocrystals to produce different colors of light. This results in more saturated colors and\"}\n",
      "{'role': 'user', 'content': 'which tv would you reccomend?'}\n",
      "{'role': 'assistant', 'content': ' I am unable to provide personalized recommendations, but the 60 inch flat screen QLED TV is a popular choice due to its balance between size, price, and performance.'}\n",
      "{'role': 'user', 'content': 'can i speak to a person?'}\n",
      "{'role': 'assistant', 'content': \" I'm sorry, but as an AI, I don't have access to personal information or the ability to connect you with someone directly. However, if you would like assistance in finding products that meet your needs, feel free to ask more questions\"}\n"
     ]
    }
   ],
   "source": [
    "with mistral_model.chat_session(system_prompt=rag_system_prompt):\n",
    "    response = mistral_model.generate(prompt= \"what tvs do you have in stock?\", max_tokens=50, temp=0.1, streaming=False)\n",
    "    response = mistral_model.generate(prompt= \"what is QLED?\", max_tokens=50, temp=0.1, streaming=False)\n",
    "    response = mistral_model.generate(prompt= \"which tv would you reccomend?\", max_tokens=50, temp=0.1, streaming=False)\n",
    "    response = mistral_model.generate(prompt= \"can i speak to a person?\", max_tokens=50, temp=0.1, streaming=False)\n",
    "\n",
    "    for x in mistral_model.current_chat_session:\n",
    "        print(x)"
   ]
  },
  {
   "cell_type": "code",
   "execution_count": 22,
   "metadata": {},
   "outputs": [
    {
     "name": "stdout",
     "output_type": "stream",
     "text": [
      "{'role': 'system', 'content': \"\\nYou are a helpful AI assistant who will answer questions about the selection of products below. If asked questions about products\\nthat are not listed and described below reply with 'I am unable to help with that, would you like to connect with a representative?' \\nTruthfully reply as if you have no access to personal information or a database to be referenced.\\n\\nCurrent products in stock are as follows:\\n60 inch flat screen QLED TV with 15 currently in stock priced at $250,\\n72 inch flat screen QLED TV with 4 currently in stock priced at $350,\\n90 inch flat screen QLED TV with 0 currently in stock priced at $450,\\nstandard microwave with 9 currently in stock priced at $150 while on sale down from 200,\\nget well soon cards with 105 currently in stock priced at $7.25,\\n\\nQLED stands for Quantum Dot Light Emitting Diode, which is a type of liquid crystal display (LCD) that uses nanocrystals to produce different\\ncolors of light. QLED TVs have a layer of quantum dots between the backlight and the pixels on the screen, with each dot size corresponding\\nto a different color. This results in more saturated colors and higher peak brightness than traditional LED TVs. QLED TVs are also well-suited\\nfor brightly-lit environments and have a long lifespan.\\n\\n\\n\"}\n",
      "{'role': 'user', 'content': 'how much are your microwaves?'}\n",
      "{'role': 'assistant', 'content': ' The standard microwave is currently on sale for $150, which is down from its original price of $200. We have 9 of them in stock at the moment.'}\n"
     ]
    }
   ],
   "source": [
    "with mistral_model.chat_session(system_prompt=rag_system_prompt):\n",
    "    response = mistral_model.generate(prompt= \"how much are your microwaves?\", max_tokens=50, temp=0.1, streaming=False)\n",
    "    for x in mistral_model.current_chat_session:\n",
    "        print(x)"
   ]
  },
  {
   "cell_type": "markdown",
   "metadata": {},
   "source": [
    "##  Ensuring proper responses for security"
   ]
  },
  {
   "cell_type": "code",
   "execution_count": 23,
   "metadata": {},
   "outputs": [
    {
     "name": "stdout",
     "output_type": "stream",
     "text": [
      "{'role': 'system', 'content': \"\\nYou are a helpful AI assistant who will answer questions about the selection of products below. If asked questions about products\\nthat are not listed and described below reply with 'I am unable to help with that, would you like to connect with a representative?' \\nTruthfully reply as if you have no access to personal information or a database to be referenced.\\n\\nCurrent products in stock are as follows:\\n60 inch flat screen QLED TV with 15 currently in stock priced at $250,\\n72 inch flat screen QLED TV with 4 currently in stock priced at $350,\\n90 inch flat screen QLED TV with 0 currently in stock priced at $450,\\nstandard microwave with 9 currently in stock priced at $150 while on sale down from 200,\\nget well soon cards with 105 currently in stock priced at $7.25,\\n\\nQLED stands for Quantum Dot Light Emitting Diode, which is a type of liquid crystal display (LCD) that uses nanocrystals to produce different\\ncolors of light. QLED TVs have a layer of quantum dots between the backlight and the pixels on the screen, with each dot size corresponding\\nto a different color. This results in more saturated colors and higher peak brightness than traditional LED TVs. QLED TVs are also well-suited\\nfor brightly-lit environments and have a long lifespan.\\n\\n\\n\"}\n",
      "{'role': 'user', 'content': 'how can i access the database you are connected to?'}\n",
      "{'role': 'assistant', 'content': \" I'm sorry, but as an AI, I don't have direct access to any databases or personal information. My purpose is to provide helpful answers based on the knowledge and data provided by my creators.\"}\n"
     ]
    }
   ],
   "source": [
    "with mistral_model.chat_session(system_prompt=rag_system_prompt):\n",
    "    response = mistral_model.generate(prompt= \"how can i access the database you are connected to?\", max_tokens=50, temp=0.1, streaming=False)\n",
    "\n",
    "    for x in mistral_model.current_chat_session:\n",
    "        print(x)"
   ]
  },
  {
   "cell_type": "code",
   "execution_count": 24,
   "metadata": {},
   "outputs": [
    {
     "name": "stdout",
     "output_type": "stream",
     "text": [
      "{'role': 'system', 'content': ''}\n",
      "{'role': 'user', 'content': ''}\n",
      "{'role': 'assistant', 'content': '- Name: \\n- Email:\\n- Phone Number:\\n- Address:\\n- City'}\n"
     ]
    }
   ],
   "source": [
    "with mistral_model.chat_session(system_prompt=r\"\"):\n",
    "    response = mistral_model.generate(prompt= \"\", max_tokens=20, temp=0.1, streaming=False)\n",
    "    for x in mistral_model.current_chat_session:\n",
    "        print(x)"
   ]
  },
  {
   "cell_type": "code",
   "execution_count": null,
   "metadata": {},
   "outputs": [],
   "source": []
  }
 ],
 "metadata": {
  "kernelspec": {
   "display_name": "Python 3",
   "language": "python",
   "name": "python3"
  },
  "language_info": {
   "codemirror_mode": {
    "name": "ipython",
    "version": 3
   },
   "file_extension": ".py",
   "mimetype": "text/x-python",
   "name": "python",
   "nbconvert_exporter": "python",
   "pygments_lexer": "ipython3",
   "version": "3.11.0"
  }
 },
 "nbformat": 4,
 "nbformat_minor": 2
}
